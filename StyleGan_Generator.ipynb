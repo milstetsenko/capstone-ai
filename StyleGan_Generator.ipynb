{
  "nbformat": 4,
  "nbformat_minor": 0,
  "metadata": {
    "colab": {
      "provenance": []
    },
    "kernelspec": {
      "name": "python3",
      "display_name": "Python 3"
    },
    "language_info": {
      "name": "python"
    },
    "accelerator": "GPU"
  },
  "cells": [
    {
      "cell_type": "code",
      "execution_count": null,
      "metadata": {
        "colab": {
          "base_uri": "https://localhost:8080/"
        },
        "id": "HOhLq8ZJU0Dh",
        "outputId": "9410b508-d82a-4d05-e894-783acbb26cad"
      },
      "outputs": [
        {
          "output_type": "stream",
          "name": "stdout",
          "text": [
            "Mounted at /content/drive\n",
            "Note: using Google CoLab\n"
          ]
        }
      ],
      "source": [
        "try:\n",
        "    from google.colab import drive\n",
        "    drive.mount('/content/drive', force_remount=True)\n",
        "    COLAB = True\n",
        "    print(\"Note: using Google CoLab\")\n",
        "except:\n",
        "    print(\"Note: not using Google CoLab\")\n",
        "    COLAB = False"
      ]
    },
    {
      "cell_type": "code",
      "source": [
        "!pip install torch==1.8.1 torchvision==0.9.1\n",
        "!git clone https://github.com/NVlabs/stylegan2-ada-pytorch.git\n",
        "!pip install ninja\n",
        "import os\n",
        "from tqdm import tqdm\n",
        "import cv2\n",
        "from PIL import Image"
      ],
      "metadata": {
        "colab": {
          "base_uri": "https://localhost:8080/"
        },
        "id": "cBZvtSHfU783",
        "outputId": "4b3aae14-5a66-4ad4-8ed3-d00d4e566ace"
      },
      "execution_count": null,
      "outputs": [
        {
          "output_type": "stream",
          "name": "stdout",
          "text": [
            "Looking in indexes: https://pypi.org/simple, https://us-python.pkg.dev/colab-wheels/public/simple/\n",
            "Collecting torch==1.8.1\n",
            "  Downloading torch-1.8.1-cp37-cp37m-manylinux1_x86_64.whl (804.1 MB)\n",
            "\u001b[K     |████████████████████████████████| 804.1 MB 2.5 kB/s \n",
            "\u001b[?25hCollecting torchvision==0.9.1\n",
            "  Downloading torchvision-0.9.1-cp37-cp37m-manylinux1_x86_64.whl (17.4 MB)\n",
            "\u001b[K     |████████████████████████████████| 17.4 MB 458 kB/s \n",
            "\u001b[?25hRequirement already satisfied: typing-extensions in /usr/local/lib/python3.7/dist-packages (from torch==1.8.1) (4.1.1)\n",
            "Requirement already satisfied: numpy in /usr/local/lib/python3.7/dist-packages (from torch==1.8.1) (1.21.6)\n",
            "Requirement already satisfied: pillow>=4.1.1 in /usr/local/lib/python3.7/dist-packages (from torchvision==0.9.1) (7.1.2)\n",
            "Installing collected packages: torch, torchvision\n",
            "  Attempting uninstall: torch\n",
            "    Found existing installation: torch 1.12.1+cu113\n",
            "    Uninstalling torch-1.12.1+cu113:\n",
            "      Successfully uninstalled torch-1.12.1+cu113\n",
            "  Attempting uninstall: torchvision\n",
            "    Found existing installation: torchvision 0.13.1+cu113\n",
            "    Uninstalling torchvision-0.13.1+cu113:\n",
            "      Successfully uninstalled torchvision-0.13.1+cu113\n",
            "\u001b[31mERROR: pip's dependency resolver does not currently take into account all the packages that are installed. This behaviour is the source of the following dependency conflicts.\n",
            "torchtext 0.13.1 requires torch==1.12.1, but you have torch 1.8.1 which is incompatible.\n",
            "torchaudio 0.12.1+cu113 requires torch==1.12.1, but you have torch 1.8.1 which is incompatible.\u001b[0m\n",
            "Successfully installed torch-1.8.1 torchvision-0.9.1\n",
            "Cloning into 'stylegan2-ada-pytorch'...\n",
            "remote: Enumerating objects: 128, done.\u001b[K\n",
            "remote: Total 128 (delta 0), reused 0 (delta 0), pack-reused 128\u001b[K\n",
            "Receiving objects: 100% (128/128), 1.12 MiB | 2.54 MiB/s, done.\n",
            "Resolving deltas: 100% (57/57), done.\n",
            "Looking in indexes: https://pypi.org/simple, https://us-python.pkg.dev/colab-wheels/public/simple/\n",
            "Collecting ninja\n",
            "  Downloading ninja-1.11.1-py2.py3-none-manylinux_2_12_x86_64.manylinux2010_x86_64.whl (145 kB)\n",
            "\u001b[K     |████████████████████████████████| 145 kB 32.0 MB/s \n",
            "\u001b[?25hInstalling collected packages: ninja\n",
            "Successfully installed ninja-1.11.1\n"
          ]
        }
      ]
    },
    {
      "cell_type": "code",
      "source": [
        "import os\n",
        "# Modify these to suit your needs\n",
        "EXPERIMENTS = \"/content/drive/MyDrive/data/gan/2800_batch_results/\"\n",
        "NETWORK = \"network-snapshot-000400.pkl\"\n",
        "GENERATE = os.path.join(EXPERIMENTS, \"00009-training_dataset-auto1-resumecustom/\", NETWORK)\n",
        "DATA = \"/content/drive/MyDrive/data/gan/datasets/embroidery\"\n",
        "FAKES = \"/content/drive/MyDrive/data/gan/fakes\"\n",
        "\n",
        "# Build the command and run it\n",
        "cmd = f\"/usr/bin/python3 /content/stylegan2-ada-pytorch/generate.py  --outdir={FAKES} --trunc=0.7 --seeds=600-650 --network={GENERATE}\"\n",
        "!{cmd}"
      ],
      "metadata": {
        "colab": {
          "base_uri": "https://localhost:8080/"
        },
        "id": "udnwD1FDV6V3",
        "outputId": "33ef390d-2e9d-4483-8442-bea6afb5185e"
      },
      "execution_count": null,
      "outputs": [
        {
          "output_type": "stream",
          "name": "stdout",
          "text": [
            "Loading networks from \"/content/drive/MyDrive/data/gan/2800_batch_results/00009-training_dataset-auto1-resumecustom/network-snapshot-000400.pkl\"...\n",
            "Generating image for seed 600 (0/51) ...\n",
            "Setting up PyTorch plugin \"bias_act_plugin\"... Done.\n",
            "Setting up PyTorch plugin \"upfirdn2d_plugin\"... Done.\n",
            "Generating image for seed 601 (1/51) ...\n",
            "Generating image for seed 602 (2/51) ...\n",
            "Generating image for seed 603 (3/51) ...\n",
            "Generating image for seed 604 (4/51) ...\n",
            "Generating image for seed 605 (5/51) ...\n",
            "Generating image for seed 606 (6/51) ...\n",
            "Generating image for seed 607 (7/51) ...\n",
            "Generating image for seed 608 (8/51) ...\n",
            "Generating image for seed 609 (9/51) ...\n",
            "Generating image for seed 610 (10/51) ...\n",
            "Generating image for seed 611 (11/51) ...\n",
            "Generating image for seed 612 (12/51) ...\n",
            "Generating image for seed 613 (13/51) ...\n",
            "Generating image for seed 614 (14/51) ...\n",
            "Generating image for seed 615 (15/51) ...\n",
            "Generating image for seed 616 (16/51) ...\n",
            "Generating image for seed 617 (17/51) ...\n",
            "Generating image for seed 618 (18/51) ...\n",
            "Generating image for seed 619 (19/51) ...\n",
            "Generating image for seed 620 (20/51) ...\n",
            "Generating image for seed 621 (21/51) ...\n",
            "Generating image for seed 622 (22/51) ...\n",
            "Generating image for seed 623 (23/51) ...\n",
            "Generating image for seed 624 (24/51) ...\n",
            "Generating image for seed 625 (25/51) ...\n",
            "Generating image for seed 626 (26/51) ...\n",
            "Generating image for seed 627 (27/51) ...\n",
            "Generating image for seed 628 (28/51) ...\n",
            "Generating image for seed 629 (29/51) ...\n",
            "Generating image for seed 630 (30/51) ...\n",
            "Generating image for seed 631 (31/51) ...\n",
            "Generating image for seed 632 (32/51) ...\n",
            "Generating image for seed 633 (33/51) ...\n",
            "Generating image for seed 634 (34/51) ...\n",
            "Generating image for seed 635 (35/51) ...\n",
            "Generating image for seed 636 (36/51) ...\n",
            "Generating image for seed 637 (37/51) ...\n",
            "Generating image for seed 638 (38/51) ...\n",
            "Generating image for seed 639 (39/51) ...\n",
            "Generating image for seed 640 (40/51) ...\n",
            "Generating image for seed 641 (41/51) ...\n",
            "Generating image for seed 642 (42/51) ...\n",
            "Generating image for seed 643 (43/51) ...\n",
            "Generating image for seed 644 (44/51) ...\n",
            "Generating image for seed 645 (45/51) ...\n",
            "Generating image for seed 646 (46/51) ...\n",
            "Generating image for seed 647 (47/51) ...\n",
            "Generating image for seed 648 (48/51) ...\n",
            "Generating image for seed 649 (49/51) ...\n",
            "Generating image for seed 650 (50/51) ...\n"
          ]
        }
      ]
    },
    {
      "cell_type": "code",
      "source": [],
      "metadata": {
        "id": "qS_qBoXVYWZB"
      },
      "execution_count": null,
      "outputs": []
    }
  ]
}