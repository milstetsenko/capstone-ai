{
  "nbformat": 4,
  "nbformat_minor": 0,
  "metadata": {
    "colab": {
      "provenance": [],
      "machine_shape": "hm"
    },
    "kernelspec": {
      "name": "python3",
      "display_name": "Python 3"
    },
    "language_info": {
      "name": "python"
    },
    "gpuClass": "standard"
  },
  "cells": [
    {
      "cell_type": "code",
      "execution_count": null,
      "metadata": {
        "id": "eyZx0b-jMnT0"
      },
      "outputs": [],
      "source": [
        "import os\n",
        "from PIL import Image\n",
        "from tqdm import tqdm"
      ]
    },
    {
      "cell_type": "code",
      "source": [
        "### Setting Up the Environment and Mounting Drive\n",
        "def mount_drive():\n",
        "  try:\n",
        "      from google.colab import drive\n",
        "      drive.mount('/content/drive', force_remount=True)\n",
        "      COLAB = True\n",
        "      print(\"Note: using Google CoLab\")\n",
        "  except:\n",
        "      print(\"Note: not using Google CoLab\")\n",
        "      COLAB = False\n",
        "mount_drive()"
      ],
      "metadata": {
        "colab": {
          "base_uri": "https://localhost:8080/"
        },
        "id": "iX7KSVZpPGD5",
        "outputId": "86944a80-f7a0-4f52-973e-6ef6ca46e75a"
      },
      "execution_count": null,
      "outputs": [
        {
          "output_type": "stream",
          "name": "stdout",
          "text": [
            "Mounted at /content/drive\n",
            "Note: using Google CoLab\n"
          ]
        }
      ]
    },
    {
      "cell_type": "code",
      "source": [
        "PATH_PREFIX = \"/content/drive/MyDrive/data/\"\n",
        "BASE_SIZE=(256,256)\n",
        "TRAIN_PATH = os.path.join(PATH_PREFIX, \"classifier/images/Training\")\n",
        "VALID_PATH = os.path.join(PATH_PREFIX, \"classifier/images/Validation\")\n",
        "def copy_training_data(path: str = \"gan/training_data/\"):\n",
        "  path = os.path.join(PATH_PREFIX, path)\n",
        "\n",
        "  count = 0\n",
        "  for filename in tqdm(os.listdir(path),desc ='reading images ...'):\n",
        "    count += 1\n",
        "    image = Image.open(path+filename)\n",
        "    if image.size != BASE_SIZE:\n",
        "      image = image.resize(BASE_SIZE)\n",
        "    if image.mode != \"RGB\":\n",
        "      image = image.convert(\"RGB\")\n",
        "    # print(image.size)\n",
        "    if count < 1000:\n",
        "      image.save(TRAIN_PATH+filename, image.format)\n",
        "    elif count < 1100:\n",
        "      image.save(VALID_PATH+filename, image.format)\n",
        "    else:\n",
        "      return"
      ],
      "metadata": {
        "id": "DglnP07sKGaI"
      },
      "execution_count": null,
      "outputs": []
    },
    {
      "cell_type": "code",
      "source": [
        "copy_training_data()"
      ],
      "metadata": {
        "colab": {
          "base_uri": "https://localhost:8080/"
        },
        "id": "gNOHVt6eMLGM",
        "outputId": "f111a7f1-7a44-4830-f505-e2d709ec1033"
      },
      "execution_count": null,
      "outputs": [
        {
          "output_type": "stream",
          "name": "stderr",
          "text": [
            "reading images ...:  29%|██▉       | 1099/3748 [01:50<04:25,  9.98it/s]\n"
          ]
        }
      ]
    },
    {
      "cell_type": "code",
      "source": [
        "from tensorflow.keras.preprocessing.image import ImageDataGenerator\n",
        "\n",
        "# rescale images\n",
        "train_datagen = ImageDataGenerator(rescale = 1.0/255)\n",
        "test_datagen  = ImageDataGenerator(rescale = 1.0/255)\n",
        "\n",
        "# supe conviniet stuff\n",
        "train_generator = train_datagen.flow_from_directory(TRAIN_PATH,\n",
        "                                                    batch_size=20,\n",
        "                                                    class_mode='binary',\n",
        "                                                    target_size=(256, 256))\n",
        "\n",
        "validation_generator =  test_datagen.flow_from_directory(VALID_PATH,\n",
        "                                                         batch_size=20,\n",
        "                                                         class_mode='binary',\n",
        "                                                         target_size=(256, 256))"
      ],
      "metadata": {
        "colab": {
          "base_uri": "https://localhost:8080/"
        },
        "id": "yfWOzqDiOO-c",
        "outputId": "d064e42d-3ecb-4ffb-e540-bb5e3c96525b"
      },
      "execution_count": null,
      "outputs": [
        {
          "output_type": "stream",
          "name": "stdout",
          "text": [
            "Found 1762 images belonging to 2 classes.\n",
            "Found 131 images belonging to 2 classes.\n"
          ]
        }
      ]
    },
    {
      "cell_type": "code",
      "source": [
        "import tensorflow as tf\n",
        "\n",
        "model = tf.keras.models.Sequential([\n",
        "    # Conv2D is the first layer of the nn\n",
        "    tf.keras.layers.Conv2D(16, (3,3), activation='relu', input_shape=(256, 256, 3)),\n",
        "    # pooling\n",
        "    tf.keras.layers.MaxPooling2D(2,2),\n",
        "    # repeat\n",
        "    tf.keras.layers.Conv2D(32, (3,3), activation='relu'),\n",
        "    tf.keras.layers.MaxPooling2D(2,2), \n",
        "    tf.keras.layers.Conv2D(64, (3,3), activation='relu'), \n",
        "    tf.keras.layers.MaxPooling2D(2,2),\n",
        "    # flatten the result to feed it to the dense layer\n",
        "    tf.keras.layers.Flatten(), \n",
        "    # define 512 neurons for processing the output coming by the previous layers\n",
        "    tf.keras.layers.Dense(512, activation='relu'), \n",
        "    # a single output neuron. The result will be 0 if the image is not ukrainian, 1 if it is ukrainian pattern\n",
        "    tf.keras.layers.Dense(1, activation='sigmoid')  \n",
        "])"
      ],
      "metadata": {
        "id": "g36nR4HGO0qv"
      },
      "execution_count": null,
      "outputs": []
    },
    {
      "cell_type": "code",
      "source": [
        "model.summary()"
      ],
      "metadata": {
        "colab": {
          "base_uri": "https://localhost:8080/"
        },
        "id": "8HMITnr0PBrC",
        "outputId": "b055b77e-9067-428a-af06-e5e69393370c"
      },
      "execution_count": null,
      "outputs": [
        {
          "output_type": "stream",
          "name": "stdout",
          "text": [
            "Model: \"sequential_1\"\n",
            "_________________________________________________________________\n",
            " Layer (type)                Output Shape              Param #   \n",
            "=================================================================\n",
            " conv2d_3 (Conv2D)           (None, 254, 254, 16)      448       \n",
            "                                                                 \n",
            " max_pooling2d_3 (MaxPooling  (None, 127, 127, 16)     0         \n",
            " 2D)                                                             \n",
            "                                                                 \n",
            " conv2d_4 (Conv2D)           (None, 125, 125, 32)      4640      \n",
            "                                                                 \n",
            " max_pooling2d_4 (MaxPooling  (None, 62, 62, 32)       0         \n",
            " 2D)                                                             \n",
            "                                                                 \n",
            " conv2d_5 (Conv2D)           (None, 60, 60, 64)        18496     \n",
            "                                                                 \n",
            " max_pooling2d_5 (MaxPooling  (None, 30, 30, 64)       0         \n",
            " 2D)                                                             \n",
            "                                                                 \n",
            " flatten_1 (Flatten)         (None, 57600)             0         \n",
            "                                                                 \n",
            " dense_2 (Dense)             (None, 512)               29491712  \n",
            "                                                                 \n",
            " dense_3 (Dense)             (None, 1)                 513       \n",
            "                                                                 \n",
            "=================================================================\n",
            "Total params: 29,515,809\n",
            "Trainable params: 29,515,809\n",
            "Non-trainable params: 0\n",
            "_________________________________________________________________\n"
          ]
        }
      ]
    },
    {
      "cell_type": "code",
      "source": [
        "model.compile(optimizer=\"adam\",\n",
        "              loss='binary_crossentropy',\n",
        "              metrics = ['accuracy'])"
      ],
      "metadata": {
        "id": "5cMno-vFPKv5"
      },
      "execution_count": null,
      "outputs": []
    },
    {
      "cell_type": "code",
      "source": [
        "history = model.fit(\n",
        "            train_generator, # pass in the training generator\n",
        "            steps_per_epoch=50,\n",
        "            epochs=15,\n",
        "            validation_data=validation_generator, # pass in the validation generator\n",
        "            validation_steps=50,\n",
        "            verbose=2\n",
        "            )"
      ],
      "metadata": {
        "colab": {
          "base_uri": "https://localhost:8080/"
        },
        "id": "m1UaRYn0PPFx",
        "outputId": "e249a7ad-527a-4c50-820e-2c4b2f5c9100"
      },
      "execution_count": null,
      "outputs": [
        {
          "output_type": "stream",
          "name": "stdout",
          "text": [
            "Epoch 1/15\n"
          ]
        },
        {
          "output_type": "stream",
          "name": "stderr",
          "text": [
            "WARNING:tensorflow:Your input ran out of data; interrupting training. Make sure that your dataset or generator can generate at least `steps_per_epoch * epochs` batches (in this case, 50 batches). You may need to use the repeat() function when building your dataset.\n"
          ]
        },
        {
          "output_type": "stream",
          "name": "stdout",
          "text": [
            "50/50 - 42s - loss: 0.3654 - accuracy: 0.8340 - val_loss: 0.4108 - val_accuracy: 0.9084 - 42s/epoch - 834ms/step\n",
            "Epoch 2/15\n",
            "50/50 - 41s - loss: 0.2784 - accuracy: 0.8860 - 41s/epoch - 820ms/step\n",
            "Epoch 3/15\n",
            "50/50 - 41s - loss: 0.2771 - accuracy: 0.8800 - 41s/epoch - 816ms/step\n",
            "Epoch 4/15\n",
            "50/50 - 41s - loss: 0.2026 - accuracy: 0.9120 - 41s/epoch - 821ms/step\n",
            "Epoch 5/15\n",
            "50/50 - 41s - loss: 0.2154 - accuracy: 0.9100 - 41s/epoch - 812ms/step\n",
            "Epoch 6/15\n",
            "50/50 - 41s - loss: 0.1659 - accuracy: 0.9330 - 41s/epoch - 817ms/step\n",
            "Epoch 7/15\n",
            "50/50 - 40s - loss: 0.1289 - accuracy: 0.9530 - 40s/epoch - 805ms/step\n",
            "Epoch 8/15\n",
            "50/50 - 41s - loss: 0.1171 - accuracy: 0.9660 - 41s/epoch - 825ms/step\n",
            "Epoch 9/15\n",
            "50/50 - 40s - loss: 0.0866 - accuracy: 0.9633 - 40s/epoch - 794ms/step\n",
            "Epoch 10/15\n",
            "50/50 - 41s - loss: 0.0580 - accuracy: 0.9770 - 41s/epoch - 811ms/step\n",
            "Epoch 11/15\n",
            "50/50 - 41s - loss: 0.0463 - accuracy: 0.9800 - 41s/epoch - 828ms/step\n",
            "Epoch 12/15\n",
            "50/50 - 40s - loss: 0.0324 - accuracy: 0.9870 - 40s/epoch - 810ms/step\n",
            "Epoch 13/15\n",
            "50/50 - 40s - loss: 0.0311 - accuracy: 0.9898 - 40s/epoch - 810ms/step\n",
            "Epoch 14/15\n",
            "50/50 - 41s - loss: 0.0201 - accuracy: 0.9980 - 41s/epoch - 811ms/step\n",
            "Epoch 15/15\n",
            "50/50 - 40s - loss: 0.0892 - accuracy: 0.9725 - 40s/epoch - 796ms/step\n"
          ]
        }
      ]
    },
    {
      "cell_type": "markdown",
      "source": [],
      "metadata": {
        "id": "s0ByqAucO0FU"
      }
    },
    {
      "cell_type": "code",
      "source": [
        "model.save(os.path.join(PATH_PREFIX, 'classifier/model/my_model'))"
      ],
      "metadata": {
        "colab": {
          "base_uri": "https://localhost:8080/"
        },
        "id": "-oJy9xsCYlaf",
        "outputId": "c8923bd2-edcf-4cee-a382-e4ab09a1f605"
      },
      "execution_count": null,
      "outputs": [
        {
          "output_type": "stream",
          "name": "stderr",
          "text": [
            "WARNING:absl:Found untraced functions such as _jit_compiled_convolution_op, _jit_compiled_convolution_op, _jit_compiled_convolution_op while saving (showing 3 of 3). These functions will not be directly callable after loading.\n"
          ]
        }
      ]
    },
    {
      "cell_type": "code",
      "source": [
        "\n",
        "import numpy as np\n",
        "import tensorflow as tf\n",
        "import os\n",
        "from PIL import Image\n",
        "import numpy as np\n",
        "from tqdm import tqdm\n",
        "mount_drive()\n",
        "PATH_PREFIX = \"/content/drive/MyDrive/data/\"\n",
        "\n",
        "# if testing on outside data we need to check that image size is 256 by 256\n",
        "def test_prediction(test_img_path: str = 'gan/training_data/train_img_3781.jpeg'):\n",
        "  model = tf.keras.models.load_model(os.path.join(PATH_PREFIX, 'classifier/model/my_model'))\n",
        "  # prediction on the uploaded image\n",
        "  path = os.path.join(PATH_PREFIX, test_img_path) # load the image on Colab\n",
        "  img = Image.open(path)\n",
        "  if img.size != (256,256):\n",
        "    print('Please reformat image to be 256x256')\n",
        "  # normalize\n",
        "  x = np.asarray(np.copy(img))\n",
        "  x = x/255 \n",
        "  x = np.expand_dims(x, axis=0)\n",
        "  # flatten the output\n",
        "  images = np.vstack([x])\n",
        "\n",
        "  # prediction!\n",
        "  classes = model.predict(images, batch_size=10)\n",
        "\n",
        "  print(classes[0])\n",
        "\n",
        "  if classes[0] > 0.5:\n",
        "    print(\"It's ukrainian embroidery\")\n",
        "  else:\n",
        "    print(\"It's not ukrainian embroidery\")\n",
        "\n",
        "def test_multiple_images(folder_path: str = \"/content/drive/MyDrive/data/gan/fakes/\") -> None:\n",
        "  for filename in tqdm(os.listdir(folder_path),desc ='reading images ...'):\n",
        "    test_prediction(folder_path+filename)\n",
        "# test_multiple_images()\n",
        "test_multiple_images(\"/content/drive/MyDrive/data/classifier/images/Validation/Non_Ukrainian/\")"
      ],
      "metadata": {
        "colab": {
          "base_uri": "https://localhost:8080/"
        },
        "id": "QEPFPNVqZY6G",
        "outputId": "7cfb5ee2-b8d6-416b-8b51-1ff079cb1215"
      },
      "execution_count": null,
      "outputs": [
        {
          "output_type": "stream",
          "name": "stdout",
          "text": [
            "Mounted at /content/drive\n",
            "Note: using Google CoLab\n"
          ]
        },
        {
          "output_type": "stream",
          "name": "stderr",
          "text": [
            "\rreading images ...:   0%|          | 0/31 [00:00<?, ?it/s]"
          ]
        },
        {
          "output_type": "stream",
          "name": "stdout",
          "text": [
            "1/1 [==============================] - 0s 108ms/step\n"
          ]
        },
        {
          "output_type": "stream",
          "name": "stderr",
          "text": [
            "\rreading images ...:   3%|▎         | 1/31 [00:01<00:55,  1.85s/it]"
          ]
        },
        {
          "output_type": "stream",
          "name": "stdout",
          "text": [
            "[0.00057126]\n",
            "It's not ukrainian embroidery\n",
            "1/1 [==============================] - 0s 106ms/step\n"
          ]
        },
        {
          "output_type": "stream",
          "name": "stderr",
          "text": [
            "\rreading images ...:   6%|▋         | 2/31 [00:03<00:53,  1.84s/it]"
          ]
        },
        {
          "output_type": "stream",
          "name": "stdout",
          "text": [
            "[1.0385783e-05]\n",
            "It's not ukrainian embroidery\n",
            "1/1 [==============================] - 0s 104ms/step\n"
          ]
        },
        {
          "output_type": "stream",
          "name": "stderr",
          "text": [
            "\rreading images ...:  10%|▉         | 3/31 [00:05<00:51,  1.85s/it]"
          ]
        },
        {
          "output_type": "stream",
          "name": "stdout",
          "text": [
            "[0.9998724]\n",
            "It's ukrainian embroidery\n",
            "1/1 [==============================] - 0s 128ms/step\n"
          ]
        },
        {
          "output_type": "stream",
          "name": "stderr",
          "text": [
            "\rreading images ...:  13%|█▎        | 4/31 [00:07<00:53,  2.00s/it]"
          ]
        },
        {
          "output_type": "stream",
          "name": "stdout",
          "text": [
            "[0.7572847]\n",
            "It's ukrainian embroidery\n",
            "1/1 [==============================] - 0s 102ms/step\n"
          ]
        },
        {
          "output_type": "stream",
          "name": "stderr",
          "text": [
            "\rreading images ...:  16%|█▌        | 5/31 [00:09<00:51,  1.98s/it]"
          ]
        },
        {
          "output_type": "stream",
          "name": "stdout",
          "text": [
            "[9.267901e-05]\n",
            "It's not ukrainian embroidery\n",
            "1/1 [==============================] - 0s 100ms/step\n"
          ]
        },
        {
          "output_type": "stream",
          "name": "stderr",
          "text": [
            "\rreading images ...:  19%|█▉        | 6/31 [00:11<00:48,  1.93s/it]"
          ]
        },
        {
          "output_type": "stream",
          "name": "stdout",
          "text": [
            "[0.12061904]\n",
            "It's not ukrainian embroidery\n",
            "1/1 [==============================] - 0s 101ms/step\n"
          ]
        },
        {
          "output_type": "stream",
          "name": "stderr",
          "text": [
            "\rreading images ...:  23%|██▎       | 7/31 [00:13<00:45,  1.92s/it]"
          ]
        },
        {
          "output_type": "stream",
          "name": "stdout",
          "text": [
            "[0.0009402]\n",
            "It's not ukrainian embroidery\n",
            "1/1 [==============================] - 0s 99ms/step\n"
          ]
        },
        {
          "output_type": "stream",
          "name": "stderr",
          "text": [
            "\rreading images ...:  26%|██▌       | 8/31 [00:15<00:43,  1.89s/it]"
          ]
        },
        {
          "output_type": "stream",
          "name": "stdout",
          "text": [
            "[6.4750144e-05]\n",
            "It's not ukrainian embroidery\n",
            "1/1 [==============================] - 0s 106ms/step\n"
          ]
        },
        {
          "output_type": "stream",
          "name": "stderr",
          "text": [
            "\rreading images ...:  29%|██▉       | 9/31 [00:17<00:41,  1.87s/it]"
          ]
        },
        {
          "output_type": "stream",
          "name": "stdout",
          "text": [
            "[0.04519835]\n",
            "It's not ukrainian embroidery\n",
            "1/1 [==============================] - 0s 102ms/step\n"
          ]
        },
        {
          "output_type": "stream",
          "name": "stderr",
          "text": [
            "\rreading images ...:  32%|███▏      | 10/31 [00:18<00:39,  1.86s/it]"
          ]
        },
        {
          "output_type": "stream",
          "name": "stdout",
          "text": [
            "[0.00537947]\n",
            "It's not ukrainian embroidery\n",
            "1/1 [==============================] - 0s 108ms/step\n"
          ]
        },
        {
          "output_type": "stream",
          "name": "stderr",
          "text": [
            "\rreading images ...:  35%|███▌      | 11/31 [00:21<00:39,  1.99s/it]"
          ]
        },
        {
          "output_type": "stream",
          "name": "stdout",
          "text": [
            "[9.277178e-07]\n",
            "It's not ukrainian embroidery\n",
            "1/1 [==============================] - 0s 103ms/step\n"
          ]
        },
        {
          "output_type": "stream",
          "name": "stderr",
          "text": [
            "\rreading images ...:  39%|███▊      | 12/31 [00:23<00:36,  1.93s/it]"
          ]
        },
        {
          "output_type": "stream",
          "name": "stdout",
          "text": [
            "[4.6127777e-10]\n",
            "It's not ukrainian embroidery\n",
            "1/1 [==============================] - 0s 104ms/step\n"
          ]
        },
        {
          "output_type": "stream",
          "name": "stderr",
          "text": [
            "\rreading images ...:  42%|████▏     | 13/31 [00:24<00:34,  1.91s/it]"
          ]
        },
        {
          "output_type": "stream",
          "name": "stdout",
          "text": [
            "[0.10392363]\n",
            "It's not ukrainian embroidery\n",
            "1/1 [==============================] - 0s 106ms/step\n"
          ]
        },
        {
          "output_type": "stream",
          "name": "stderr",
          "text": [
            "\rreading images ...:  45%|████▌     | 14/31 [00:26<00:32,  1.89s/it]"
          ]
        },
        {
          "output_type": "stream",
          "name": "stdout",
          "text": [
            "[0.9597918]\n",
            "It's ukrainian embroidery\n",
            "1/1 [==============================] - 0s 104ms/step\n"
          ]
        },
        {
          "output_type": "stream",
          "name": "stderr",
          "text": [
            "\rreading images ...:  48%|████▊     | 15/31 [00:28<00:30,  1.91s/it]"
          ]
        },
        {
          "output_type": "stream",
          "name": "stdout",
          "text": [
            "[0.25685397]\n",
            "It's not ukrainian embroidery\n",
            "1/1 [==============================] - 0s 113ms/step\n"
          ]
        },
        {
          "output_type": "stream",
          "name": "stderr",
          "text": [
            "\rreading images ...:  52%|█████▏    | 16/31 [00:30<00:28,  1.89s/it]"
          ]
        },
        {
          "output_type": "stream",
          "name": "stdout",
          "text": [
            "[0.00198069]\n",
            "It's not ukrainian embroidery\n",
            "1/1 [==============================] - 0s 109ms/step\n"
          ]
        },
        {
          "output_type": "stream",
          "name": "stderr",
          "text": [
            "\rreading images ...:  55%|█████▍    | 17/31 [00:32<00:26,  1.88s/it]"
          ]
        },
        {
          "output_type": "stream",
          "name": "stdout",
          "text": [
            "[0.987771]\n",
            "It's ukrainian embroidery\n",
            "1/1 [==============================] - 0s 103ms/step\n"
          ]
        },
        {
          "output_type": "stream",
          "name": "stderr",
          "text": [
            "\rreading images ...:  58%|█████▊    | 18/31 [00:34<00:25,  1.99s/it]"
          ]
        },
        {
          "output_type": "stream",
          "name": "stdout",
          "text": [
            "[0.03798975]\n",
            "It's not ukrainian embroidery\n",
            "1/1 [==============================] - 0s 103ms/step\n"
          ]
        },
        {
          "output_type": "stream",
          "name": "stderr",
          "text": [
            "\rreading images ...:  61%|██████▏   | 19/31 [00:36<00:23,  1.95s/it]"
          ]
        },
        {
          "output_type": "stream",
          "name": "stdout",
          "text": [
            "[0.08978895]\n",
            "It's not ukrainian embroidery\n",
            "1/1 [==============================] - 0s 99ms/step\n"
          ]
        },
        {
          "output_type": "stream",
          "name": "stderr",
          "text": [
            "\rreading images ...:  65%|██████▍   | 20/31 [00:38<00:21,  1.91s/it]"
          ]
        },
        {
          "output_type": "stream",
          "name": "stdout",
          "text": [
            "[2.0069647e-10]\n",
            "It's not ukrainian embroidery\n",
            "1/1 [==============================] - 0s 100ms/step\n"
          ]
        },
        {
          "output_type": "stream",
          "name": "stderr",
          "text": [
            "\rreading images ...:  68%|██████▊   | 21/31 [00:40<00:18,  1.89s/it]"
          ]
        },
        {
          "output_type": "stream",
          "name": "stdout",
          "text": [
            "[2.5090156e-05]\n",
            "It's not ukrainian embroidery\n",
            "1/1 [==============================] - 0s 102ms/step\n"
          ]
        },
        {
          "output_type": "stream",
          "name": "stderr",
          "text": [
            "\rreading images ...:  71%|███████   | 22/31 [00:41<00:16,  1.87s/it]"
          ]
        },
        {
          "output_type": "stream",
          "name": "stdout",
          "text": [
            "[0.0075212]\n",
            "It's not ukrainian embroidery\n",
            "1/1 [==============================] - 0s 102ms/step\n"
          ]
        },
        {
          "output_type": "stream",
          "name": "stderr",
          "text": [
            "\rreading images ...:  74%|███████▍  | 23/31 [00:43<00:14,  1.87s/it]"
          ]
        },
        {
          "output_type": "stream",
          "name": "stdout",
          "text": [
            "[1.3423635e-05]\n",
            "It's not ukrainian embroidery\n",
            "1/1 [==============================] - 0s 103ms/step\n"
          ]
        },
        {
          "output_type": "stream",
          "name": "stderr",
          "text": [
            "\rreading images ...:  77%|███████▋  | 24/31 [00:45<00:13,  1.86s/it]"
          ]
        },
        {
          "output_type": "stream",
          "name": "stdout",
          "text": [
            "[9.460396e-05]\n",
            "It's not ukrainian embroidery\n",
            "1/1 [==============================] - 0s 479ms/step\n"
          ]
        },
        {
          "output_type": "stream",
          "name": "stderr",
          "text": [
            "\rreading images ...:  81%|████████  | 25/31 [00:47<00:11,  1.98s/it]"
          ]
        },
        {
          "output_type": "stream",
          "name": "stdout",
          "text": [
            "[0.00946306]\n",
            "It's not ukrainian embroidery\n",
            "1/1 [==============================] - 0s 103ms/step\n"
          ]
        },
        {
          "output_type": "stream",
          "name": "stderr",
          "text": [
            "\rreading images ...:  84%|████████▍ | 26/31 [00:49<00:09,  1.93s/it]"
          ]
        },
        {
          "output_type": "stream",
          "name": "stdout",
          "text": [
            "[1.7564766e-09]\n",
            "It's not ukrainian embroidery\n",
            "1/1 [==============================] - 0s 106ms/step\n"
          ]
        },
        {
          "output_type": "stream",
          "name": "stderr",
          "text": [
            "\rreading images ...:  87%|████████▋ | 27/31 [00:51<00:07,  1.90s/it]"
          ]
        },
        {
          "output_type": "stream",
          "name": "stdout",
          "text": [
            "[0.12867723]\n",
            "It's not ukrainian embroidery\n",
            "1/1 [==============================] - 0s 104ms/step\n"
          ]
        },
        {
          "output_type": "stream",
          "name": "stderr",
          "text": [
            "\rreading images ...:  90%|█████████ | 28/31 [00:53<00:05,  1.88s/it]"
          ]
        },
        {
          "output_type": "stream",
          "name": "stdout",
          "text": [
            "[0.98160243]\n",
            "It's ukrainian embroidery\n",
            "1/1 [==============================] - 0s 101ms/step\n"
          ]
        },
        {
          "output_type": "stream",
          "name": "stderr",
          "text": [
            "\rreading images ...:  94%|█████████▎| 29/31 [00:55<00:03,  1.89s/it]"
          ]
        },
        {
          "output_type": "stream",
          "name": "stdout",
          "text": [
            "[0.00221423]\n",
            "It's not ukrainian embroidery\n",
            "1/1 [==============================] - 0s 107ms/step\n"
          ]
        },
        {
          "output_type": "stream",
          "name": "stderr",
          "text": [
            "\rreading images ...:  97%|█████████▋| 30/31 [00:57<00:01,  1.89s/it]"
          ]
        },
        {
          "output_type": "stream",
          "name": "stdout",
          "text": [
            "[1.0320348e-07]\n",
            "It's not ukrainian embroidery\n",
            "1/1 [==============================] - 0s 102ms/step\n"
          ]
        },
        {
          "output_type": "stream",
          "name": "stderr",
          "text": [
            "reading images ...: 100%|██████████| 31/31 [00:59<00:00,  1.90s/it]"
          ]
        },
        {
          "output_type": "stream",
          "name": "stdout",
          "text": [
            "[3.2422392e-06]\n",
            "It's not ukrainian embroidery\n"
          ]
        },
        {
          "output_type": "stream",
          "name": "stderr",
          "text": [
            "\n"
          ]
        }
      ]
    }
  ]
}